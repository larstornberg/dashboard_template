{
 "cells": [
  {
   "cell_type": "code",
   "execution_count": 36,
   "id": "db37a6d5-3c67-4832-acbb-c4b3dbdff161",
   "metadata": {},
   "outputs": [
    {
     "name": "stdout",
     "output_type": "stream",
     "text": [
      "The autoreload extension is already loaded. To reload it, use:\n",
      "  %reload_ext autoreload\n"
     ]
    }
   ],
   "source": [
    "%load_ext autoreload\n",
    "%autoreload 2\n",
    "%matplotlib inline\n",
    "\n",
    "import sys\n",
    "import numpy as np\n",
    "import io\n",
    "import base64\n",
    "sys.path.append('..')\n",
    "from src.plotting import plot_matplotlib_figure_1\n",
    "import matplotlib.pyplot as plt\n",
    "\n",
    "from plotly.tools import mpl_to_plotly\n"
   ]
  },
  {
   "cell_type": "code",
   "execution_count": 39,
   "id": "90e8daba-bee2-4f0d-8886-4697266c6d58",
   "metadata": {},
   "outputs": [],
   "source": [
    "fig = plot_matplotlib_figure_1(2)\n",
    "plotly_fig = mpl_to_plotly(fig)"
   ]
  },
  {
   "cell_type": "code",
   "execution_count": 6,
   "id": "312394da-e56a-4155-8e64-19a98a80dc00",
   "metadata": {},
   "outputs": [],
   "source": [
    "def update_figure_1(n_points):\n",
    "    #create some matplotlib graph\n",
    "    x = np.random.rand(n_points)\n",
    "    y = np.random.rand(n_points)\n",
    "    buf = io.BytesIO() # in-memory files\n",
    "    plt.scatter(x, y)\n",
    "    plt.savefig(buf, format = \"png\") # save to the above file object\n",
    "    plt.close()\n",
    "    data = base64.b64encode(buf.getbuffer()).decode(\"utf8\") # encode to html elements\n",
    "    return \"data:image/png;base64,{}\".format(data)"
   ]
  },
  {
   "cell_type": "code",
   "execution_count": 34,
   "id": "9710d9e6-94a2-4a0f-8e67-672be4cfafd8",
   "metadata": {},
   "outputs": [],
   "source": [
    "#create some matplotlib graph\n",
    "fig = plt.figure(figsize=(6, 3))\n",
    "x = np.random.rand(n_points)\n",
    "y = np.random.rand(n_points)\n",
    "buf = io.BytesIO() # in-memory files\n",
    "plt.scatter(x, y)\n",
    "fig.savefig(buf, format = \"png\") # save to the above file object\n",
    "plt.close()\n",
    "data = base64.b64encode(buf.getbuffer()).decode(\"utf8\") # encode to html elements\n",
    "#return \"data:image/png;base64,{}\".format(data)"
   ]
  },
  {
   "cell_type": "code",
   "execution_count": 31,
   "id": "d680f645-c047-478a-b4a8-5e8767bdb9d6",
   "metadata": {},
   "outputs": [
    {
     "ename": "TypeError",
     "evalue": "'PathCollection' object is not callable",
     "output_type": "error",
     "traceback": [
      "\u001b[0;31m---------------------------------------------------------------------------\u001b[0m",
      "\u001b[0;31mTypeError\u001b[0m                                 Traceback (most recent call last)",
      "Input \u001b[0;32mIn [31]\u001b[0m, in \u001b[0;36m<cell line: 1>\u001b[0;34m()\u001b[0m\n\u001b[0;32m----> 1\u001b[0m \u001b[43mfig\u001b[49m\u001b[43m(\u001b[49m\u001b[43m)\u001b[49m\n",
      "\u001b[0;31mTypeError\u001b[0m: 'PathCollection' object is not callable"
     ]
    }
   ],
   "source": [
    "fig"
   ]
  },
  {
   "cell_type": "code",
   "execution_count": null,
   "id": "3d6b78bd-4a7a-48f8-a90c-5fde4f35edd6",
   "metadata": {},
   "outputs": [],
   "source": []
  }
 ],
 "metadata": {
  "kernelspec": {
   "display_name": "finance",
   "language": "python",
   "name": "finance"
  },
  "language_info": {
   "codemirror_mode": {
    "name": "ipython",
    "version": 3
   },
   "file_extension": ".py",
   "mimetype": "text/x-python",
   "name": "python",
   "nbconvert_exporter": "python",
   "pygments_lexer": "ipython3",
   "version": "3.10.4"
  }
 },
 "nbformat": 4,
 "nbformat_minor": 5
}
